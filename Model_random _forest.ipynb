{
 "cells": [
  {
   "cell_type": "markdown",
   "id": "0107afd5",
   "metadata": {},
   "source": [
    "<h1>Random Forest Model for Heart Disease </h1>"
   ]
  },
  {
   "cell_type": "code",
   "execution_count": null,
   "id": "b1e7d5d1",
   "metadata": {},
   "outputs": [],
   "source": []
  }
 ],
 "metadata": {
  "kernelspec": {
   "display_name": "Python 3",
   "language": "python",
   "name": "python3"
  },
  "language_info": {
   "codemirror_mode": {
    "name": "ipython",
    "version": 3
   },
   "file_extension": ".py",
   "mimetype": "text/x-python",
   "name": "python",
   "nbconvert_exporter": "python",
   "pygments_lexer": "ipython3",
   "version": "3.8.8"
  }
 },
 "nbformat": 4,
 "nbformat_minor": 5
}
